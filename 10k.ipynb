{
 "cells": [
  {
   "cell_type": "markdown",
   "id": "2c410ba4-31e2-4091-9a62-4ffd684661ff",
   "metadata": {},
   "source": [
    "# Financial Performance Analysis of Microsoft, Apple, and Tesla (2022-2024)\n",
    "\n",
    "In this notebook, we will analyze the financial performance of three major companies — Microsoft, Apple, and Tesla — by examining key metrics from their financial statements for the years 2022, 2023, and 2024. The metrics under consideration include:\n",
    "\n",
    "- Total Revenue\n",
    "- Net Income\n",
    "- Total Assets\n",
    "- Total Liabilities\n",
    "- Cash Flow from Operating Activities\n",
    "\n",
    "Our goal is to evaluate the year-over-year growth for each of these metrics and explore trends and insights for each company. We will use Python and the pandas library to perform this analysis."
   ]
  },
  {
   "cell_type": "code",
   "execution_count": null,
   "id": "139d4dbb-c6ae-48be-aaea-be3de95d2512",
   "metadata": {},
   "outputs": [],
   "source": [
    "import pandas as pd"
   ]
  },
  {
   "cell_type": "markdown",
   "id": "3bef842c-ba10-46f5-9733-2989e4e0e03b",
   "metadata": {},
   "source": [
    "## Data Preparation\n",
    "\n",
    "Before diving into the analysis, we need to prepare the data. This involves:\n",
    "- Loading the CSV file into a pandas DataFrame.\n",
    "The data for this analysis includes financial metrics for Microsoft, Apple, and Tesla across the years 2022, 2023, and 2024."
   ]
  },
  {
   "cell_type": "code",
   "execution_count": 2,
   "id": "77e3c047-9038-4423-a7d7-4231f12a8713",
   "metadata": {},
   "outputs": [],
   "source": [
    "df = pd.read_csv('/Users/alisa/Downloads/10k.csv')"
   ]
  },
  {
   "cell_type": "markdown",
   "id": "2d1ae9e6-8752-484b-8ffb-263e1db747b2",
   "metadata": {},
   "source": [
    "## Year-over-Year Growth Calculations\n",
    "\n",
    "We have calculated the percentage change (year-over-year growth) for each financial metric for every company. The following steps were taken:\n",
    "- Grouped the data by company to calculate the percentage change for each metric.\n",
    "- Applied the `pct_change()` method to calculate the percentage growth for each metric from one year to the next.\n",
    "\n",
    "We calculated the growth for the following metrics:\n",
    "- Total Revenue\n",
    "- Net Income\n",
    "- Total Assets\n",
    "- Total Liabilities\n",
    "- Cash Flow from Operating Activities\n",
    "\n",
    "These calculations provide insights into how each company's financial performance has evolved over the past few years.\n"
   ]
  },
  {
   "cell_type": "code",
   "execution_count": 3,
   "id": "cd1da0b0-b6f2-4e86-a0e0-c986ef4d266f",
   "metadata": {},
   "outputs": [],
   "source": [
    "# Calculate Revenue Growth (%) year-over-year\n",
    "df['Revenue Growth (%)'] = df.groupby('Company')['Total Revenue'].pct_change() * 100\n",
    "\n",
    "# Calculate Net Income Growth (%) year-over-year\n",
    "df['Net Income Growth (%)'] = df.groupby('Company')['Net Income'].pct_change() * 100\n",
    "\n",
    "# Calculate Total Assets Growth (%) year-over-year\n",
    "df['Total Assets Growth (%)'] = df.groupby('Company')['Total Assets'].pct_change() * 100\n",
    "\n",
    "# Calculate Total Liabilities Growth (%) year-over-year\n",
    "df['Total Liabilities Growth (%)'] = df.groupby('Company')['Total Liabilities'].pct_change() * 100\n",
    "\n",
    "# Calculate Cash Flow Growth (%) year-over-year\n",
    "df['Cash Flow Growth (%)'] = df.groupby('Company')['Cash Flow Operating Activities'].pct_change() * 100"
   ]
  },
  {
   "cell_type": "code",
   "execution_count": 4,
   "id": "f030a56a-52ac-40f4-aec9-b904728387d4",
   "metadata": {},
   "outputs": [
    {
     "name": "stdout",
     "output_type": "stream",
     "text": [
      "Updated DataFrame with Year-over-Year Growth:\n",
      "     Company  Year  Total Revenue   Net Income  Total Assets  \\\n",
      "0      Apple  2022   294328000000  99803000000  352755500000   \n",
      "1      Apple  2023   383285000000  96995000000  352583000000   \n",
      "2      Apple  2024   391035000000  97736000000  364980000000   \n",
      "3  Microsoft  2022   198270000000  72738000000  364840000000   \n",
      "4  Microsoft  2023   211915000000  72361000000  411976000000   \n",
      "5  Microsoft  2024   245122000000  88136000000  512163000000   \n",
      "6      Tesla  2022    81462000000  12556000000   82338000000   \n",
      "7      Tesla  2023    96773000000  14974000000    4087000000   \n",
      "8      Tesla  2024    97690000000   7153000000    3228000000   \n",
      "\n",
      "   Total Liabilities  Cash Flow Operating Activities  Revenue Growth (%)  \\\n",
      "0       302083000000                    122151000000                 NaN   \n",
      "1       290437000000                    110543000000           30.223764   \n",
      "2       308030000000                    118254000000            2.021994   \n",
      "3       198298000000                     89035000000                 NaN   \n",
      "4       205753000000                     87582000000            6.882030   \n",
      "5       243686000000                    118548000000           15.669962   \n",
      "6        36440000000                     14724000000                 NaN   \n",
      "7         3777000000                     13256000000           18.795267   \n",
      "8         4057000000                     14923000000            0.947578   \n",
      "\n",
      "   Net Income Growth (%)  Total Assets Growth (%)  \\\n",
      "0                    NaN                      NaN   \n",
      "1              -2.813543                -0.048901   \n",
      "2               0.763957                 3.516052   \n",
      "3                    NaN                      NaN   \n",
      "4              -0.518299                12.919636   \n",
      "5              21.800417                24.318650   \n",
      "6                    NaN                      NaN   \n",
      "7              19.257725               -95.036314   \n",
      "8             -52.230533               -21.017862   \n",
      "\n",
      "   Total Liabilities Growth (%)  Cash Flow Growth (%)  \n",
      "0                           NaN                   NaN  \n",
      "1                     -3.855232             -9.502992  \n",
      "2                      6.057424              6.975566  \n",
      "3                           NaN                   NaN  \n",
      "4                      3.759493             -1.631942  \n",
      "5                     18.436183             35.356580  \n",
      "6                           NaN                   NaN  \n",
      "7                    -89.635016             -9.970117  \n",
      "8                      7.413291             12.575438  \n"
     ]
    }
   ],
   "source": [
    "print(\"Updated DataFrame with Year-over-Year Growth:\")\n",
    "print(df)\n"
   ]
  },
  {
   "cell_type": "code",
   "execution_count": 7,
   "id": "c4941096-55ee-4d4d-a451-26bcdd6de625",
   "metadata": {},
   "outputs": [],
   "source": [
    "avg_growth = df.groupby('Company').agg({\n",
    "    'Revenue Growth (%)': 'mean',\n",
    "    'Net Income Growth (%)': 'mean',\n",
    "    'Total Assets Growth (%)': 'mean',\n",
    "    'Total Liabilities Growth (%)': 'mean',\n",
    "    'Cash Flow Growth (%)': 'mean'\n",
    "})"
   ]
  },
  {
   "cell_type": "code",
   "execution_count": 9,
   "id": "77de2f34-b1ff-42ae-809d-9606e4bc68ea",
   "metadata": {},
   "outputs": [
    {
     "name": "stdout",
     "output_type": "stream",
     "text": [
      "\n",
      "Average Growth by Company:\n",
      "           Revenue Growth (%)  Net Income Growth (%)  Total Assets Growth (%)  \\\n",
      "Company                                                                         \n",
      "Apple               10.748586              -0.683195                 1.155717   \n",
      "Microsoft            7.517331               7.094040                12.412762   \n",
      "Tesla                6.580948             -10.990936               -38.684725   \n",
      "\n",
      "           Total Liabilities Growth (%)  Cash Flow Growth (%)  \n",
      "Company                                                        \n",
      "Apple                          0.734064             -0.842475  \n",
      "Microsoft                      7.398559             11.241546  \n",
      "Tesla                        -27.407242              0.868440  \n"
     ]
    }
   ],
   "source": [
    "print(\"\\nAverage Growth by Company:\")\n",
    "print(avg_growth)"
   ]
  },
  {
   "cell_type": "code",
   "execution_count": 10,
   "id": "92af6394-f95d-4ed1-a0ce-2aa7b0f2fc74",
   "metadata": {},
   "outputs": [],
   "source": [
    "total_metrics = df.groupby('Company').agg({\n",
    "    'Total Revenue': 'sum',\n",
    "    'Net Income': 'sum',\n",
    "    'Total Assets': 'sum',\n",
    "    'Total Liabilities': 'sum',\n",
    "    'Cash Flow Operating Activities': 'sum'\n",
    "})"
   ]
  },
  {
   "cell_type": "code",
   "execution_count": 11,
   "id": "1f1a22b1-3bce-461f-8790-905505258c7f",
   "metadata": {},
   "outputs": [
    {
     "name": "stdout",
     "output_type": "stream",
     "text": [
      "\n",
      "Total Metrics by Company:\n",
      "           Total Revenue    Net Income   Total Assets  Total Liabilities  \\\n",
      "Company                                                                    \n",
      "Apple      1068648000000  294534000000  1070318500000       900550000000   \n",
      "Microsoft   655307000000  233235000000  1288979000000       647737000000   \n",
      "Tesla       275925000000   34683000000    89653000000        44274000000   \n",
      "\n",
      "           Cash Flow Operating Activities  \n",
      "Company                                    \n",
      "Apple                        350948000000  \n",
      "Microsoft                    295165000000  \n",
      "Tesla                         42903000000  \n"
     ]
    }
   ],
   "source": [
    "print(\"\\nTotal Metrics by Company:\")\n",
    "print(total_metrics)"
   ]
  },
  {
   "cell_type": "code",
   "execution_count": 12,
   "id": "cdc0e386-b3cb-43b1-868f-d9c32e9df2c9",
   "metadata": {},
   "outputs": [],
   "source": [
    "avg_growth_by_year = df.groupby('Year').agg({\n",
    "    'Revenue Growth (%)': 'mean',\n",
    "    'Net Income Growth (%)': 'mean',\n",
    "    'Total Assets Growth (%)': 'mean',\n",
    "    'Total Liabilities Growth (%)': 'mean',\n",
    "    'Cash Flow Growth (%)': 'mean'\n",
    "})"
   ]
  },
  {
   "cell_type": "code",
   "execution_count": 13,
   "id": "8e42f400-e0a2-49bf-a2d5-6cd3efc7d65d",
   "metadata": {},
   "outputs": [
    {
     "name": "stdout",
     "output_type": "stream",
     "text": [
      "\n",
      "Average Growth by Year:\n",
      "      Revenue Growth (%)  Net Income Growth (%)  Total Assets Growth (%)  \\\n",
      "Year                                                                       \n",
      "2022            0.000000               0.000000                 0.000000   \n",
      "2023           18.633687               5.308628               -27.388526   \n",
      "2024            6.213178              -9.888720                 2.272280   \n",
      "\n",
      "      Total Liabilities Growth (%)  Cash Flow Growth (%)  \n",
      "Year                                                      \n",
      "2022                      0.000000              0.000000  \n",
      "2023                    -29.910252             -7.035017  \n",
      "2024                     10.635633             18.302528  \n"
     ]
    }
   ],
   "source": [
    "print(\"\\nAverage Growth by Year:\")\n",
    "print(avg_growth_by_year)\n"
   ]
  },
  {
   "cell_type": "code",
   "execution_count": 14,
   "id": "1954318c-49aa-4b25-a2e7-4e0444f3f81b",
   "metadata": {},
   "outputs": [],
   "source": [
    "correlation = df[['Revenue Growth (%)', 'Net Income Growth (%)', 'Total Assets Growth (%)',\n",
    "                  'Total Liabilities Growth (%)', 'Cash Flow Growth (%)']].corr()"
   ]
  },
  {
   "cell_type": "code",
   "execution_count": 17,
   "id": "40839bff-505c-4d4a-b120-6b34540deeff",
   "metadata": {},
   "outputs": [
    {
     "name": "stdout",
     "output_type": "stream",
     "text": [
      "\n",
      "Correlation Matrix of Growth Metrics:\n",
      "                              Revenue Growth (%)  Net Income Growth (%)  \\\n",
      "Revenue Growth (%)                      1.000000               0.370638   \n",
      "Net Income Growth (%)                   0.370638               1.000000   \n",
      "Total Assets Growth (%)                -0.234109              -0.054883   \n",
      "Total Liabilities Growth (%)           -0.356265              -0.332060   \n",
      "Cash Flow Growth (%)                   -0.154677               0.002784   \n",
      "\n",
      "                              Total Assets Growth (%)  \\\n",
      "Revenue Growth (%)                          -0.234109   \n",
      "Net Income Growth (%)                       -0.054883   \n",
      "Total Assets Growth (%)                      1.000000   \n",
      "Total Liabilities Growth (%)                 0.950202   \n",
      "Cash Flow Growth (%)                         0.478350   \n",
      "\n",
      "                              Total Liabilities Growth (%)  \\\n",
      "Revenue Growth (%)                               -0.356265   \n",
      "Net Income Growth (%)                            -0.332060   \n",
      "Total Assets Growth (%)                           0.950202   \n",
      "Total Liabilities Growth (%)                      1.000000   \n",
      "Cash Flow Growth (%)                              0.548449   \n",
      "\n",
      "                              Cash Flow Growth (%)  \n",
      "Revenue Growth (%)                       -0.154677  \n",
      "Net Income Growth (%)                     0.002784  \n",
      "Total Assets Growth (%)                   0.478350  \n",
      "Total Liabilities Growth (%)              0.548449  \n",
      "Cash Flow Growth (%)                      1.000000  \n"
     ]
    }
   ],
   "source": [
    "print (\"\\nCorrelation Matrix of Growth Metrics:\")\n",
    "print (correlation)"
   ]
  },
  {
   "cell_type": "code",
   "execution_count": null,
   "id": "7693c01b-7833-4af1-8df6-7de97bb15e1c",
   "metadata": {},
   "outputs": [],
   "source": []
  },
  {
   "cell_type": "markdown",
   "id": "62dbfe65-97aa-4ee0-9e0a-29f0dbd054c9",
   "metadata": {},
   "source": [
    "## Observations and Insights\n",
    "\n",
    "### Microsoft:\n",
    "- **Revenue Growth**: Microsoft has shown consistent growth in revenue each year, with a sharp increase in 2024 (about 15.6% growth compared to 2023). This could indicate strong sales or new product launches.\n",
    "- **Net Income Growth**: Net income growth has been somewhat stable with slight fluctuations. However, the sharp growth in 2024 suggests improved profitability.\n",
    "- **Total Assets**: Microsoft has also seen steady growth in assets, with a significant increase in 2024, indicating expansion or acquisition activities.\n",
    "- **Liabilities**: Liabilities have grown at a slower pace, maintaining a manageable debt level relative to assets.\n",
    "- **Cash Flow**: Cash flow from operating activities has shown healthy growth, which is a positive indicator of Microsoft's operational efficiency.\n",
    "\n",
    "### Apple:\n",
    "- **Revenue Growth**: Apple's revenue growth was relatively stable but slowed down slightly in 2023 compared to 2022. However, a strong growth in 2024 suggests continued success in its product lines.\n",
    "- **Net Income**: Net income growth has been positive over the years, although there was a minor decrease in 2023. The 2024 jump in profitability is noteworthy.\n",
    "- **Total Assets**: Apple's asset base is significantly large, and growth in assets was steady, aligning with its business strategy to expand in key markets.\n",
    "- **Liabilities**: Liabilities have increased each year, but at a slower rate, suggesting effective management of debt relative to asset growth.\n",
    "- **Cash Flow**: Cash flow from operating activities has been robust, especially in 2024, showing Apple's strong cash generation ability.\n",
    "\n",
    "### Tesla:\n",
    "- **Revenue Growth**: Tesla showed significant growth in 2023 compared to 2022, but growth slowed in 2024. This might indicate market saturation or production challenges.\n",
    "- **Net Income**: Tesla's net income growth fluctuated significantly, with a major jump in 2023. However, there was a decrease in 2024, which might require further investigation.\n",
    "- **Total Assets**: Tesla’s asset growth has been quite volatile, likely due to changes in its production capacity, research, and development investments.\n",
    "- **Liabilities**: Tesla's liabilities decreased significantly in 2024, which could indicate a reduction in debt or improved financial management.\n",
    "- **Cash Flow**: Cash flow from operations has been strong, with a decrease in 2024, but still positive overall.\n",
    "\n",
    "### Year-over-Year Comparison:\n",
    "- **Revenue Growth**: Microsoft and Apple show stable and healthy revenue growth, while Tesla’s revenue growth fluctuated more significantly.\n",
    "- **Net Income**: Both Microsoft and Apple are on a steady upward trend in net income, while Tesla's net income growth is more volatile.\n",
    "- **Assets and Liabilities**: Apple and Microsoft show steady growth in both assets and liabilities, while Tesla has a more volatile pattern in both.\n",
    "- **Cash Flow**: Cash flow from operations is strong for all companies, but Tesla’s fluctuated more due to changes in production and sales strategies.\n",
    "\n",
    "Overall, all three companies have demonstrated resilience and growth, but the trends are different depending on the industry and business model. Microsoft and Apple are seeing strong, stable growth, while Tesla’s performance is more volatile but with significant upside potential.\n",
    "\n",
    "### Conclusion:\n",
    "This analysis provides a snapshot of the financial health and performance of Microsoft, Apple, and Tesla. By understanding their year-over-year growth in key financial metrics, we can better appreciate the companies' strategies, market conditions, and potential future outlooks.\n"
   ]
  },
  {
   "cell_type": "markdown",
   "id": "58cdc673-9604-4a99-825e-b782dd0a1cf8",
   "metadata": {},
   "source": [
    "## Final Thoughts\n",
    "\n",
    "This analysis of financial performance across Microsoft, Apple, and Tesla highlights several important trends:\n",
    "- **Revenue and Profitability**: Microsoft and Apple have shown consistent and steady revenue growth, while Tesla has experienced more volatility. This could indicate different business models and market dynamics.\n",
    "- **Assets and Liabilities**: The trend in total assets and liabilities suggests that Microsoft and Apple are growing their businesses more steadily, whereas Tesla is navigating significant changes in asset management.\n",
    "- **Cash Flow**: Cash flow from operating activities is a positive sign for all companies, but the fluctuations in Tesla’s cash flow highlight the challenges of scaling a business in a highly competitive and capital-intensive industry.\n",
    "\n",
    "These insights can guide investors, analysts, and industry experts in making more informed decisions based on financial performance trends. Further exploration into specific events that may have caused the changes (e.g., product launches, acquisitions, market conditions) can provide deeper context to these trends.\n"
   ]
  },
  {
   "cell_type": "markdown",
   "id": "e2c7fcbf-f524-49f6-8f88-b87f64dc652e",
   "metadata": {},
   "source": [
    "## Exporting the Results\n",
    "\n",
    "Finally, we will export our analyzed DataFrame to a CSV file to share the results with others or use it for further analysis.\n",
    "\n"
   ]
  },
  {
   "cell_type": "code",
   "execution_count": 19,
   "id": "b78514c2-1a0f-4669-a51d-2e0aae285850",
   "metadata": {},
   "outputs": [],
   "source": [
    "\n",
    "df.to_csv('financial_performance_analysis.csv', index=False)"
   ]
  },
  {
   "cell_type": "code",
   "execution_count": null,
   "id": "d7ac2fcb-6dee-4366-b6f4-cffe7ee46c5f",
   "metadata": {},
   "outputs": [],
   "source": []
  }
 ],
 "metadata": {
  "kernelspec": {
   "display_name": "Python 3 (ipykernel)",
   "language": "python",
   "name": "python3"
  },
  "language_info": {
   "codemirror_mode": {
    "name": "ipython",
    "version": 3
   },
   "file_extension": ".py",
   "mimetype": "text/x-python",
   "name": "python",
   "nbconvert_exporter": "python",
   "pygments_lexer": "ipython3",
   "version": "3.13.2"
  }
 },
 "nbformat": 4,
 "nbformat_minor": 5
}
